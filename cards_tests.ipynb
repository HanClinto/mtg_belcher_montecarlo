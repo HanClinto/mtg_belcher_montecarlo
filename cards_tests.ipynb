{
 "cells": [
  {
   "cell_type": "code",
   "execution_count": 1,
   "metadata": {},
   "outputs": [],
   "source": [
    "import cards"
   ]
  },
  {
   "cell_type": "code",
   "execution_count": 2,
   "metadata": {},
   "outputs": [],
   "source": [
    "decklist = \"\"\"\n",
    "1 Arboreal Grazer\n",
    "1 Llanowar Elves\n",
    "1 Elvish Mystic\n",
    "4 Sakura-Tribe Elder\n",
    "4 Wall of Roots\n",
    "4 Chancellor of the Tangle\n",
    "1 Panglacial Wurm\n",
    "1 Abundant Harvest\n",
    "4 Ancient Stirrings\n",
    "4 Caravan Vigil\n",
    "2 Lay of the Land\n",
    "4 Reclaim the Wastes\n",
    "3 Explore\n",
    "4 Land Grant\n",
    "3 Rampant Growth\n",
    "2 Nissa's Pilgrimage\n",
    "4 Recross the Paths\n",
    "2 Search for Tomorrow\n",
    "4 Goblin Charbelcher\n",
    "4 Wild Growth\n",
    "7 Forest\n",
    "\"\"\""
   ]
  },
  {
   "cell_type": "code",
   "execution_count": 3,
   "metadata": {},
   "outputs": [
    {
     "ename": "TypeError",
     "evalue": "object of type 'int' has no len()",
     "output_type": "error",
     "traceback": [
      "\u001b[0;31m---------------------------------------------------------------------------\u001b[0m",
      "\u001b[0;31mTypeError\u001b[0m                                 Traceback (most recent call last)",
      "\u001b[0;32m<ipython-input-3-0561b65451a2>\u001b[0m in \u001b[0;36m<module>\u001b[0;34m\u001b[0m\n\u001b[1;32m     18\u001b[0m \u001b[0mplayer\u001b[0m\u001b[0;34m.\u001b[0m\u001b[0mstart_turn\u001b[0m\u001b[0;34m(\u001b[0m\u001b[0;34m)\u001b[0m\u001b[0;34m\u001b[0m\u001b[0;34m\u001b[0m\u001b[0m\n\u001b[1;32m     19\u001b[0m \u001b[0;31m# Ensure that we still only have 1 land\u001b[0m\u001b[0;34m\u001b[0m\u001b[0;34m\u001b[0m\u001b[0;34m\u001b[0m\u001b[0m\n\u001b[0;32m---> 20\u001b[0;31m \u001b[0;32massert\u001b[0m \u001b[0mlen\u001b[0m\u001b[0;34m(\u001b[0m\u001b[0mplayer\u001b[0m\u001b[0;34m.\u001b[0m\u001b[0mlands\u001b[0m\u001b[0;34m)\u001b[0m \u001b[0;34m==\u001b[0m \u001b[0;36m1\u001b[0m\u001b[0;34m\u001b[0m\u001b[0;34m\u001b[0m\u001b[0m\n\u001b[0m\u001b[1;32m     21\u001b[0m \u001b[0;32massert\u001b[0m \u001b[0mlen\u001b[0m\u001b[0;34m(\u001b[0m\u001b[0mplayer\u001b[0m\u001b[0;34m.\u001b[0m\u001b[0mmana_pool\u001b[0m\u001b[0;34m)\u001b[0m \u001b[0;34m==\u001b[0m \u001b[0;36m1\u001b[0m\u001b[0;34m\u001b[0m\u001b[0;34m\u001b[0m\u001b[0m\n\u001b[1;32m     22\u001b[0m \u001b[0;34m\u001b[0m\u001b[0m\n",
      "\u001b[0;31mTypeError\u001b[0m: object of type 'int' has no len()"
     ]
    }
   ],
   "source": [
    "# Create a player with a predictable seed\n",
    "player = cards.Player(decklist, 42)\n",
    "player.start_turn()\n",
    "# Ensure that the player has 7 cards in hand\n",
    "assert len(player.hand) == 7\n",
    "\n",
    "# Get and play a land\n",
    "land = player.debug_force_get_card_in_hand('Forest')\n",
    "player.play(land)\n",
    "\n",
    "# Get a Search for Tomorrow\n",
    "search = player.debug_force_get_card_in_hand(\"Search for Tomorrow\")\n",
    "\n",
    "# Cast the card for its alternate cost\n",
    "player.alt_play(search)\n",
    "\n",
    "# Pass the turn\n",
    "player.start_turn()\n",
    "# Ensure that we still only have 1 land\n",
    "assert player.lands == 1\n",
    "assert player.mana_pool == 1\n",
    "\n",
    "# Pass the turn again\n",
    "player.start_turn()\n",
    "# Ensure that we now have 2 lands, both untapped\n",
    "assert player.lands == 2\n",
    "assert player.mana_pool == 2\n",
    "\n"
   ]
  }
 ],
 "metadata": {
  "kernelspec": {
   "display_name": "Python 3.7.6 64-bit ('anaconda3')",
   "language": "python",
   "name": "python3"
  },
  "language_info": {
   "codemirror_mode": {
    "name": "ipython",
    "version": 3
   },
   "file_extension": ".py",
   "mimetype": "text/x-python",
   "name": "python",
   "nbconvert_exporter": "python",
   "pygments_lexer": "ipython3",
   "version": "3.7.6"
  },
  "orig_nbformat": 4,
  "vscode": {
   "interpreter": {
    "hash": "789e9a3a30730da91cd9792703cae4e54e95cb0e8ef524ec8cdaa56cdad661d9"
   }
  }
 },
 "nbformat": 4,
 "nbformat_minor": 2
}
