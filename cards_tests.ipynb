{
 "cells": [
  {
   "cell_type": "code",
   "execution_count": null,
   "metadata": {},
   "outputs": [],
   "source": [
    "import cards\n",
    "\n",
    "cards.LOGGING_ENABLED = True\n"
   ]
  },
  {
   "cell_type": "code",
   "execution_count": null,
   "metadata": {},
   "outputs": [],
   "source": [
    "decklist = \"\"\"\n",
    "1 Arboreal Grazer\n",
    "1 Llanowar Elves\n",
    "1 Elvish Mystic\n",
    "4 Sakura-Tribe Elder\n",
    "4 Wall of Roots\n",
    "4 Chancellor of the Tangle\n",
    "1 Panglacial Wurm\n",
    "1 Abundant Harvest\n",
    "4 Ancient Stirrings\n",
    "4 Caravan Vigil\n",
    "2 Lay of the Land\n",
    "4 Reclaim the Wastes\n",
    "3 Explore\n",
    "4 Land Grant\n",
    "3 Rampant Growth\n",
    "2 Nissa's Pilgrimage\n",
    "4 Recross the Paths\n",
    "2 Search for Tomorrow\n",
    "4 Goblin Charbelcher\n",
    "4 Wild Growth\n",
    "7 Forest\n",
    "\"\"\""
   ]
  },
  {
   "cell_type": "code",
   "execution_count": null,
   "metadata": {},
   "outputs": [],
   "source": [
    "\n",
    "# Create a player with a predictable seed\n",
    "player = cards.Player(decklist, 12)\n",
    "player.start_turn()\n",
    "# Ensure that the player has 7 cards in hand\n",
    "assert len(player.hand) == 7\n",
    "\n",
    "# Get a Search for Tomorrow\n",
    "search = player.debug_force_get_card_in_hand(\"Search for Tomorrow\")\n",
    "\n",
    "# Cast the card for its alternate cost\n",
    "player.mana_pool += search.alt_cost # Cheat and add mana to pay costs\n",
    "player.alt_play(search)\n",
    "\n",
    "# Pass the turn\n",
    "player.start_turn()\n",
    "# Ensure that we still have no lands\n",
    "assert player.lands == 0\n",
    "assert player.mana_pool == 0\n",
    "\n",
    "# Pass the turn again\n",
    "player.start_turn()\n",
    "# Ensure that we now have 1 land, and it is untapped\n",
    "assert player.lands == 1\n",
    "assert player.mana_pool == 1\n",
    "\n",
    "# Now test casting Search for Tomorrow for its full cost.\n",
    "search = player.debug_force_get_card_in_hand(\"Search for Tomorrow\")\n",
    "player.mana_pool += search.cost\n",
    "player.play(search)\n",
    "# Ensure that we now have 2 lands, both untapped\n",
    "assert player.lands == 2\n",
    "assert player.mana_pool == 2\n"
   ]
  },
  {
   "cell_type": "code",
   "execution_count": null,
   "metadata": {},
   "outputs": [],
   "source": [
    "\n",
    "# Create a player with a predictable seed\n",
    "player = cards.Player(decklist, 14)\n",
    "player.start_turn()\n",
    "# Ensure that the player has 7 cards in hand\n",
    "assert len(player.hand) == 7\n",
    "\n",
    "# Get a Search for Tomorrow\n",
    "card = player.debug_force_get_card_in_hand(\"Land Grant\")\n",
    "\n",
    "print(card.long_str(player))\n",
    "\n",
    "# Cast the card for its alternate cost\n",
    "assert player.hand.count_cards(\"Forest\") == 0\n",
    "\n",
    "assert not card.can_play(player)\n",
    "assert card.can_alt_play(player)\n",
    "\n",
    "player.alt_play(card)\n",
    "\n",
    "assert player.hand.count_cards(\"Forest\") == 1\n",
    "\n"
   ]
  },
  {
   "cell_type": "code",
   "execution_count": null,
   "metadata": {},
   "outputs": [],
   "source": [
    "player.dumplog()\n",
    "print()\n",
    "print(player)"
   ]
  }
 ],
 "metadata": {
  "kernelspec": {
   "display_name": "Python 3.10.4 ('python310')",
   "language": "python",
   "name": "python3"
  },
  "language_info": {
   "codemirror_mode": {
    "name": "ipython",
    "version": 3
   },
   "file_extension": ".py",
   "mimetype": "text/x-python",
   "name": "python",
   "nbconvert_exporter": "python",
   "pygments_lexer": "ipython3",
   "version": "3.10.4"
  },
  "orig_nbformat": 4,
  "vscode": {
   "interpreter": {
    "hash": "31b53c10cc2cd9f7311b0855d84f3daaa2b692ea7ba44dd6f3dd437055849a38"
   }
  }
 },
 "nbformat": 4,
 "nbformat_minor": 2
}
